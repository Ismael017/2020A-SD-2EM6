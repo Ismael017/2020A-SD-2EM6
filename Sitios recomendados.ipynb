{
 "cells": [
  {
   "cell_type": "markdown",
   "metadata": {},
   "source": [
   ]
  },
  {
   "cell_type": "markdown",
   "metadata": {},
   "source": [
    "1. Differential Equations and Linear Algebra (MITOPENCOURSEWARE)  http://bit.do/fqdMS\n",
    "\n",
    "2. Diﬀerential Equations (LSE) http://personal.lse.ac.uk/sasane/ma209.pdf\n",
    "\n",
    "3. Mathematical methods for economic theory (Martin J. Osborne)   http://bit.do/fqdSp\n",
    "\n",
    "4. Quantitative Economics with Python (Thomas J. Sargent)         https://python.quantecon.org/\n",
    "\n",
    "5. Matplotlib: lotka volterra tutorial  http://bit.do/fqdUm\n",
    "\n",
    "6. Darwin, Malthus, Süssmilch, and Euler http://bit.do/fqdYm\n",
    "\n",
    "7. Malthus y Darwin http://bit.do/fqdYD\n",
    "\n"
   ]
  }
 ],
 "metadata": {
  "kernelspec": {
   "display_name": "Python [conda env:Anaconda3]",
   "language": "python",
   "name": "conda-env-Anaconda3-py"
  },
  "language_info": {
   "codemirror_mode": {
    "name": "ipython",
    "version": 3
   },
   "file_extension": ".py",
   "mimetype": "text/x-python",
   "name": "python",
   "nbconvert_exporter": "python",
   "pygments_lexer": "ipython3",
   "version": "3.5.3"
  }
 },
 "nbformat": 4,
 "nbformat_minor": 2
}
